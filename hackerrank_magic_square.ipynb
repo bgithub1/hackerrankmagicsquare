{
 "cells": [
  {
   "cell_type": "markdown",
   "metadata": {},
   "source": [
    "___\n",
    "# Hackerrank Magic Square Problem\n",
    "### A Magic Square is:\n",
    "1. An nxn square matrix\n",
    "2. That contains integers in the form 1,2,3,...,n**2\n",
    "2. Whose rows, columns and diagonals sum to the same number\n",
    "#### Below is the classic 3X3 Magic Square:\n",
    "![](Magicsquareexample.png)\n",
    "___"
   ]
  },
  {
   "cell_type": "markdown",
   "metadata": {},
   "source": [
    "___\n",
    "### You derive the classic Magic Square above using 5 in the center, and different additions and subractions of 5 around the center:\n",
    "* [5-3, 5+2, 5+1] in the first row\n",
    "* [5+4, 5+0, 5-4] in the second row\n",
    "* [5-1, 5-2, 5+3] in the third row\n",
    "___"
   ]
  },
  {
   "cell_type": "markdown",
   "metadata": {},
   "source": [
    "___\n",
    "### You can further derive seven other Magic Squares from the *C*lassic *M*agic *S*quare above (*CMS*), by:\n",
    "1. Flipping row 1 and row 3 of CMS (```numpy.flip(cms,0)```)\n",
    "2. Flipping column 1 and column 3 of CMS (```numpy.flip(cms,1)```)\n",
    "3. Flipping row 1 and row 3 of the flipped CMS matrix in number 2 (```numpy.flip(m2,0)```)\n",
    "4. Transposing CMS (```cms.T```)\n",
    "5. Flipping row 1 and row 3 of the transposed CMS (```numpy.flip(cms.T,0)```)\n",
    "6. Flipping column 1 and column 3 of ther transposed CMS (```numpy.flip(cms.T,1)```)\n",
    "7. Flipping row 1 and row 3 of the flipped transposed CMS matrix in number 6(```numpy.flip(m6,0)```)\n",
    "\n",
    "___"
   ]
  },
  {
   "cell_type": "markdown",
   "metadata": {},
   "source": [
    "___\n",
    "### In a \"sane\" world, you would create these matrices using numpy\n",
    "___"
   ]
  },
  {
   "cell_type": "code",
   "execution_count": 1,
   "metadata": {},
   "outputs": [],
   "source": [
    "import numpy as np\n",
    "cms = np.array([[5-3, 5+2, 5+1],[5+4, 5+0, 5-4] ,[5-1, 5-2, 5+3]])\n",
    "m1 = np.flip(cms,0)\n",
    "m2 = np.flip(cms,1)\n",
    "m3 = np.flip(m2,0)\n",
    "m4 = cms.T\n",
    "m5 = np.flip(m4,0)\n",
    "m6 = np.flip(m4,1)\n",
    "m7 = np.flip(m6,0)"
   ]
  },
  {
   "cell_type": "code",
   "execution_count": 2,
   "metadata": {},
   "outputs": [
    {
     "data": {
      "text/plain": [
       "(array([[2, 7, 6],\n",
       "        [9, 5, 1],\n",
       "        [4, 3, 8]]),\n",
       " array([[4, 3, 8],\n",
       "        [9, 5, 1],\n",
       "        [2, 7, 6]]),\n",
       " array([[6, 7, 2],\n",
       "        [1, 5, 9],\n",
       "        [8, 3, 4]]),\n",
       " array([[8, 3, 4],\n",
       "        [1, 5, 9],\n",
       "        [6, 7, 2]]),\n",
       " array([[2, 9, 4],\n",
       "        [7, 5, 3],\n",
       "        [6, 1, 8]]),\n",
       " array([[6, 1, 8],\n",
       "        [7, 5, 3],\n",
       "        [2, 9, 4]]),\n",
       " array([[4, 9, 2],\n",
       "        [3, 5, 7],\n",
       "        [8, 1, 6]]),\n",
       " array([[8, 1, 6],\n",
       "        [3, 5, 7],\n",
       "        [4, 9, 2]]))"
      ]
     },
     "execution_count": 2,
     "metadata": {},
     "output_type": "execute_result"
    }
   ],
   "source": [
    "cms,m1,m2,m3,m4,m5,m6,m7"
   ]
  },
  {
   "cell_type": "markdown",
   "metadata": {},
   "source": [
    "___\n",
    "### You solve the Hackerrank problem by:\n",
    "1. element-wise subtracting each of the 8 matrices above with the matrix that you are presented in the problem\n",
    "2. for each subtracted matrix, convert the subtracted values to absolute values\n",
    "3. for each subtracted-absolute-values matrix, sum all of the elements\n",
    "4. The solution is the minimum of those 8 values\n",
    "___"
   ]
  },
  {
   "cell_type": "code",
   "execution_count": 3,
   "metadata": {},
   "outputs": [
    {
     "name": "stdout",
     "output_type": "stream",
     "text": [
      "The final_answer is 7\n"
     ]
    }
   ],
   "source": [
    "# let s0 be an example problem from Hackerrank\n",
    "s0 = np.array([[5,3,4],[1, 5, 8],[6, 4, 2]])\n",
    "step1 = [s0-m for m in [cms,m1,m2,m3,m4,m5,m6,m7]]\n",
    "step2 = [np.absolute(m) for m in step1]\n",
    "step3 = [m.reshape(-1).sum() for m in step2]\n",
    "final_answer = min(step3)\n",
    "print(f'The final_answer is {final_answer}')"
   ]
  },
  {
   "cell_type": "markdown",
   "metadata": {},
   "source": [
    "___\n",
    "# Hackerrank is not a sane world.  You can't use numpy.\n",
    "So the cells below use regular python to create the 8 matrices, and then create the solution.\n",
    "___"
   ]
  },
  {
   "cell_type": "code",
   "execution_count": 4,
   "metadata": {},
   "outputs": [],
   "source": [
    "import math\n",
    "import os\n",
    "import random\n",
    "import re\n",
    "import sys\n"
   ]
  },
  {
   "cell_type": "code",
   "execution_count": 5,
   "metadata": {},
   "outputs": [],
   "source": [
    "def atran(s):\n",
    "    # transpose\n",
    "    il = len(s)\n",
    "    st = [[s[j][i] for j in range(len(s[i]))] for i in range(il)]\n",
    "    return st\n",
    "\n",
    "def aud(s):\n",
    "    si_last = len(s) - 1\n",
    "    sc = s.copy()\n",
    "    sc[0] = s[si_last]\n",
    "    sc[si_last] = s[0]\n",
    "    return sc\n",
    "\n",
    "def alr(s):\n",
    "    il = len(s)\n",
    "    st = [[s[i][j] for j in range(len(s[i])-1,-1,-1)] for i in range(il)]\n",
    "    return st\n",
    "\n",
    "def audalr(s):\n",
    "    return alr(aud(s))\n",
    "\n",
    "def adiff(s1,s2):\n",
    "    return [[s1[i][j] - s2[i][j] for j in range(len(s1[i]))] for i in range(len(s1))]\n",
    "\n",
    "def absadiff(s1,s2):\n",
    "    ad = adiff(s1,s2)\n",
    "    return [[abs(ad[i][j]) for j in range(len(ad[i]))] for i in range(len(ad))]\n",
    "\n",
    "def sumabsadiff(s1,s2):\n",
    "    return sum(aflat(absadiff(s1,s2)))\n",
    "\n",
    "def arrdiff(s1,s2):\n",
    "    # elementwise abs diff\n",
    "    return [[s1[i][j] - s2[i][j] for j in range(len(s1[i]))] for i in range(len(s1))]\n",
    "\n",
    "def aflat(s):\n",
    "    return [s[i][j] for i in range(len(s)) for j in range(len(s[i]))]\n",
    "    \n",
    "def mags():\n",
    "    # classic magic square\n",
    "    m = [[5-3, 5+2, 5+1],[5+4, 5+0, 5-4] ,[5-1, 5-2, 5+3]]\n",
    "    maud = aud(m)\n",
    "    malr = alr(m)\n",
    "    maudalr = audalr(m)\n",
    "    mt = atran(m)\n",
    "    mtaud = aud(atran(m))\n",
    "    mtalr = alr(atran(m))\n",
    "    mtaudalr = audalr(atran(m))\n",
    "    return [m, maud,malr,maudalr,mt,mtaud,mtalr,mtaudalr]\n",
    "\n",
    "def forming_magic_square_solution(s):\n",
    "    return min([sumabsadiff(s,m) for m in mags()])\n",
    "    "
   ]
  },
  {
   "cell_type": "markdown",
   "metadata": {},
   "source": [
    "___\n",
    "### Use the above methods to solve the Hackerrank problem\n",
    "___"
   ]
  },
  {
   "cell_type": "code",
   "execution_count": 8,
   "metadata": {},
   "outputs": [],
   "source": [
    "# example problem matrix\n",
    "s0 = [\n",
    "[5,3,4],\n",
    "[1, 5, 8],\n",
    "[6, 4, 2]\n",
    "]\n"
   ]
  },
  {
   "cell_type": "code",
   "execution_count": 9,
   "metadata": {},
   "outputs": [
    {
     "data": {
      "text/plain": [
       "7"
      ]
     },
     "execution_count": 9,
     "metadata": {},
     "output_type": "execute_result"
    }
   ],
   "source": [
    "# The solution\n",
    "forming_magic_square_solution(s0)"
   ]
  },
  {
   "cell_type": "code",
   "execution_count": null,
   "metadata": {},
   "outputs": [],
   "source": []
  }
 ],
 "metadata": {
  "kernelspec": {
   "display_name": "Python 3",
   "language": "python",
   "name": "python3"
  },
  "language_info": {
   "codemirror_mode": {
    "name": "ipython",
    "version": 3
   },
   "file_extension": ".py",
   "mimetype": "text/x-python",
   "name": "python",
   "nbconvert_exporter": "python",
   "pygments_lexer": "ipython3",
   "version": "3.6.5"
  }
 },
 "nbformat": 4,
 "nbformat_minor": 2
}
